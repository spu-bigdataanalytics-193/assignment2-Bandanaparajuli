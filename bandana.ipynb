{
 "cells": [
  {
   "cell_type": "markdown",
   "metadata": {},
   "source": [
    "# Assignment 1 - Threading and Multiprocessing"
   ]
  },
  {
   "cell_type": "markdown",
   "metadata": {},
   "source": [
    "In this project, we will explore multithreading an multiprocessing difference. For that purpose, we have an imaginary colleage whose name is John, who asks for your help to increase the speed of his process while downloading images from internet."
   ]
  },
  {
   "cell_type": "markdown",
   "metadata": {},
   "source": [
    "John already has the code for serial-programming, however, he don't know concurrent programming and parallel programming! Help John to succeed in his mission by using multithreading and multiprocessing logic to increase the speed of his task.\n",
    "He has two tasks:"
   ]
  },
  {
   "cell_type": "markdown",
   "metadata": {},
   "source": [
    "Download images from internet\n"
   ]
  },
  {
   "cell_type": "markdown",
   "metadata": {},
   "source": [
    "Resize them to 128x128 px."
   ]
  },
  {
   "cell_type": "markdown",
   "metadata": {},
   "source": [
    "# Imports"
   ]
  },
  {
   "cell_type": "code",
   "execution_count": 26,
   "metadata": {},
   "outputs": [],
   "source": [
    "import os\n",
    "import json\n",
    "import requests\n",
    "import threading\n",
    "from PIL import Image"
   ]
  },
  {
   "cell_type": "markdown",
   "metadata": {},
   "source": [
    "# Client ID Specification and Required Functions"
   ]
  },
  {
   "cell_type": "code",
   "execution_count": 27,
   "metadata": {},
   "outputs": [],
   "source": [
    "client_id = \"b1fe5ed600a5829\""
   ]
  },
  {
   "cell_type": "code",
   "execution_count": 28,
   "metadata": {},
   "outputs": [],
   "source": [
    "def create_download_dir():\n",
    "    \"\"\"\n",
    "    creates a download directory for images.\n",
    "    \"\"\"\n",
    "    dir_images = os.path.join('images')\n",
    "\n",
    "    if not os.path.exists(dir_images):\n",
    "        os.mkdir(dir_images)\n",
    "\n",
    "    return dir_images"
   ]
  },
  {
   "cell_type": "code",
   "execution_count": 29,
   "metadata": {},
   "outputs": [],
   "source": [
    "def download_image_from_url(url, directory):\n",
    "    \"\"\"\n",
    "    download image and save into given directory.\n",
    "    \"\"\"\n",
    "    response = requests.get(url, stream=True)\n",
    "    if response.status_code == 200:\n",
    "        filename = os.path.basename(url)\n",
    "        filepath = os.path.join(directory, f'{filename}')\n",
    "        with open(filepath, 'wb') as f:\n",
    "            f.write(response.content)"
   ]
  },
  {
   "cell_type": "code",
   "execution_count": 30,
   "metadata": {},
   "outputs": [],
   "source": [
    "def build_link_list(client_id, num_of_images):\n",
    "    \"\"\"\n",
    "    builds a list of image links.\n",
    "    \"\"\"\n",
    "    i = 1\n",
    "    cnt = 0\n",
    "    url_list = []\n",
    "    url_list_len = []\n",
    "\n",
    "    try:\n",
    "        while(cnt < num_of_images):\n",
    "            # get request\n",
    "            response = requests.get(\n",
    "                f'https://api.imgur.com/3/gallery/random/random/{i}', \n",
    "                headers={'Authorization': f'Client-ID {client_id}'},\n",
    "                stream=True\n",
    "            )\n",
    "            \n",
    "            # control\n",
    "            if response.status_code == 200:\n",
    "                data_list = json.loads(response.content)['data']\n",
    "                url_list.extend([\n",
    "                    i['link']\n",
    "                    for i in data_list \n",
    "                    if 'type' in i \n",
    "                    and i['type'] in ('image/png', 'image/jpeg')\n",
    "                    and i['link'] not in url_list\n",
    "                ])\n",
    "\n",
    "                cnt = len(url_list)\n",
    "                url_list_len.append(cnt)\n",
    "                i += 1\n",
    "                \n",
    "                # control if api doesn't return anything new\n",
    "                if set(url_list_len[-10:]) == 1:\n",
    "                    break\n",
    "            \n",
    "            elif response.status_code == 429:\n",
    "                print('too many requests, enough, or you can choose to put time.sleep() in here...') \n",
    "                break\n",
    "\n",
    "            else:\n",
    "                break\n",
    "\n",
    "    except:\n",
    "        print('api limit reached!')\n",
    "        \n",
    "    \n",
    "    return url_list"
   ]
  },
  {
   "cell_type": "code",
   "execution_count": 31,
   "metadata": {},
   "outputs": [],
   "source": [
    "def create_thumbnail(size, path):\n",
    "    \"\"\"\n",
    "    create resized version of the image path given, with the same name \n",
    "    extended with _thumbnail.\n",
    "    \"\"\"\n",
    "    try:\n",
    "        # create thumbnail\n",
    "        image = Image.open(path)\n",
    "        image.thumbnail(size)\n",
    "\n",
    "        # create path for thumbnail\n",
    "        dir_images = os.path.join(path)\n",
    "        filename, extension = os.path.splitext(path)\n",
    "        new_filename = os.path.join('{}{}{}'.format(filename, '_thumbnail', extension))\n",
    "\n",
    "        # save thumbnail\n",
    "        image.convert('RGB').save(new_filename)\n",
    "    except:\n",
    "        'image error'"
   ]
  },
  {
   "cell_type": "markdown",
   "metadata": {},
   "source": [
    "# Global Variables"
   ]
  },
  {
   "cell_type": "code",
   "execution_count": 32,
   "metadata": {},
   "outputs": [],
   "source": [
    "NUM_OF_IMAGES = 1000 # max requests can be done per day is 12500\n",
    "\n",
    "IMAGES_DIR = create_download_dir()"
   ]
  },
  {
   "cell_type": "markdown",
   "metadata": {},
   "source": [
    "# Serial code of John"
   ]
  },
  {
   "cell_type": "markdown",
   "metadata": {},
   "source": [
    "In this section, we will download some images from internet. As network related tasks are considered as IO bound, it can be fasten by multithreading the downloading task. Our john already did serial way of downloading, it is your turn to do multithreading."
   ]
  },
  {
   "cell_type": "code",
   "execution_count": 33,
   "metadata": {},
   "outputs": [
    {
     "name": "stdout",
     "output_type": "stream",
     "text": [
      "too many requests, enough, or you can choose to put time.sleep() in here...\n",
      "CPU times: user 430 ms, sys: 55.7 ms, total: 486 ms\n",
      "Wall time: 2.04 s\n"
     ]
    }
   ],
   "source": [
    "%%time\n",
    "\n",
    "image_links = build_link_list(client_id, NUM_OF_IMAGES)\n",
    "\n",
    "for image_link in image_links:\n",
    "    download_image_from_url(image_link, IMAGES_DIR)"
   ]
  },
  {
   "cell_type": "markdown",
   "metadata": {},
   "source": [
    "# MultiThreading John's Task"
   ]
  },
  {
   "cell_type": "code",
   "execution_count": 35,
   "metadata": {},
   "outputs": [
    {
     "name": "stdout",
     "output_type": "stream",
     "text": [
      "too many requests, enough, or you can choose to put time.sleep() in here...\n",
      "Done\n",
      "CPU times: user 103 ms, sys: 12 ms, total: 115 ms\n",
      "Wall time: 287 ms\n"
     ]
    }
   ],
   "source": [
    "%%time\n",
    "\n",
    "if __name__ == \"__main__\":\n",
    "    image_links = build_link_list(client_id, NUM_OF_IMAGES)\n",
    "    t1 = threading.Thread(target = download_image_from_url,args =(image_link, IMAGES_DIR) )\n",
    "    t2 = threading.Thread(target = download_image_from_url,args =(image_link, IMAGES_DIR) )\n",
    "    t3 = threading.Thread(target = download_image_from_url,args =(image_link, IMAGES_DIR) )\n",
    "    t4 = threading.Thread(target = download_image_from_url,args =(image_link, IMAGES_DIR) )  \n",
    "    t1.start()\n",
    "    t2.start()\n",
    "    t3.start()\n",
    "    t4.start()\n",
    "    t1.join()\n",
    "    t2.join()\n",
    "    t3.join()\n",
    "    t3.join()"
   ]
  },
  {
   "cell_type": "markdown",
   "metadata": {},
   "source": [
    "# Serial Code for John - Resizing the image"
   ]
  },
  {
   "cell_type": "code",
   "execution_count": 36,
   "metadata": {},
   "outputs": [
    {
     "name": "stdout",
     "output_type": "stream",
     "text": [
      "CPU times: user 30.6 s, sys: 5.26 s, total: 35.9 s\n",
      "Wall time: 40.9 s\n"
     ]
    }
   ],
   "source": [
    "%%time\n",
    "\n",
    "image_path_list = os.listdir('images')\n",
    "for image_path in image_path_list:\n",
    "    create_thumbnail((128, 128), os.path.join('images', image_path))"
   ]
  },
  {
   "cell_type": "markdown",
   "metadata": {},
   "source": [
    "# Multi - Processing John's Code"
   ]
  },
  {
   "cell_type": "markdown",
   "metadata": {},
   "source": [
    "In this part, we have to resize the images downloaded into another size, in this example case, it will be 128x128px. As CPU bound operations are generally considered as multiprocessing tasks, resizing suits exactly for this purpose!"
   ]
  },
  {
   "cell_type": "code",
   "execution_count": 39,
   "metadata": {},
   "outputs": [],
   "source": [
    "import multiprocessing\n",
    "from multiprocessing import Pool\n",
    "from itertools import product"
   ]
  },
  {
   "cell_type": "code",
   "execution_count": 37,
   "metadata": {},
   "outputs": [
    {
     "name": "stdout",
     "output_type": "stream",
     "text": [
      "CPU times: user 8.71 s, sys: 1.65 s, total: 10.4 s\n",
      "Wall time: 12.8 s\n"
     ]
    }
   ],
   "source": [
    "%%time\n",
    "\n",
    "p = multiprocessing.Pool(processes=5)\n",
    "image_path_list = os.listdir('images')\n",
    "for image_path in image_path_list:\n",
    "    p.starmap(create_thumbnail, product((128, 128), os.path.join('images', image_path)))"
   ]
  },
  {
   "cell_type": "markdown",
   "metadata": {},
   "source": [
    "# Conclusion"
   ]
  },
  {
   "cell_type": "markdown",
   "metadata": {},
   "source": [
    "Create a table to show differences between all four approaches and the time it took for those tasks. Table can be anything, as long as you show the differences, as in below."
   ]
  },
  {
   "cell_type": "code",
   "execution_count": 40,
   "metadata": {},
   "outputs": [
    {
     "name": "stdout",
     "output_type": "stream",
     "text": [
      "+-----------------+------------+\n",
      "|   Description   | Time Taken |\n",
      "+-----------------+------------+\n",
      "| Downloaded pics |   2:04 s   |\n",
      "|  MultiThreading |   287 ms   |\n",
      "|   Resize pics   |   40.9 s   |\n",
      "| MultiProcessing |   12.8 s   |\n",
      "+-----------------+------------+\n"
     ]
    }
   ],
   "source": [
    "from prettytable import PrettyTable\n",
    "\n",
    "x = PrettyTable()\n",
    "\n",
    "x.field_names = [\"Description\", \"Time Taken\"]\n",
    "\n",
    "x.add_row([\"Downloaded pics\", \"2:04 s\"])\n",
    "x.add_row([\"MultiThreading\", \"287 ms\"])\n",
    "x.add_row([\"Resize pics\", \"40.9 s\"])\n",
    "x.add_row([\"MultiProcessing\", \"12.8 s\"])\n",
    "\n",
    "print(x)"
   ]
  }
 ],
 "metadata": {
  "kernelspec": {
   "display_name": "Python 3",
   "language": "python",
   "name": "python3"
  },
  "language_info": {
   "codemirror_mode": {
    "name": "ipython",
    "version": 3
   },
   "file_extension": ".py",
   "mimetype": "text/x-python",
   "name": "python",
   "nbconvert_exporter": "python",
   "pygments_lexer": "ipython3",
   "version": "3.7.4"
  }
 },
 "nbformat": 4,
 "nbformat_minor": 2
}
